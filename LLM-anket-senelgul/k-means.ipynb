{
 "cells": [
  {
   "cell_type": "code",
   "execution_count": 1,
   "metadata": {},
   "outputs": [],
   "source": [
    "import pandas as pd\n",
    "from sklearn.cluster import KMeans\n",
    "from sklearn.preprocessing import StandardScaler\n"
   ]
  },
  {
   "cell_type": "markdown",
   "metadata": {},
   "source": [
    "Deneme "
   ]
  },
  {
   "cell_type": "code",
   "execution_count": 2,
   "metadata": {},
   "outputs": [
    {
     "name": "stdout",
     "output_type": "stream",
     "text": [
      "   Age  Gender  Cluster\n",
      "0   18    Male        0\n",
      "1   30    Male        1\n",
      "2   45  Female        2\n",
      "3   19  Female        0\n",
      "4   43    Male        1\n"
     ]
    }
   ],
   "source": [
    "# Kullanıcı verilerini yükle\n",
    "user_data = pd.read_csv(\"realistic_user_data.csv\")\n",
    "\n",
    "# Kümeleme için kullanılacak özellikleri seç\n",
    "features = ['Age', 'Gender', 'Job', 'Smoking', 'Alcoholic', 'Depression', 'Anxiety', 'Obesity', 'Active']\n",
    "\n",
    "# Sayısal verilere dönüştür (categorical verileri encoding ile sayısala çevir)\n",
    "user_data_encoded = pd.get_dummies(user_data[features])\n",
    "\n",
    "# Veriyi ölçeklendir\n",
    "scaler = StandardScaler()\n",
    "scaled_features = scaler.fit_transform(user_data_encoded)\n",
    "\n",
    "# K-means algoritması ile kümeleme\n",
    "kmeans = KMeans(n_clusters=5, random_state=42)\n",
    "user_data['Cluster'] = kmeans.fit_predict(scaled_features)\n",
    "\n",
    "# Kümeleme sonuçlarını incele\n",
    "print(user_data[['Age', 'Gender', 'Cluster']].head())\n"
   ]
  },
  {
   "cell_type": "markdown",
   "metadata": {},
   "source": [
    "Yorumları kullanıcılara göre kümeleme (örn.ekonomi yorum a ,ekonomi yorum b)"
   ]
  },
  {
   "cell_type": "code",
   "execution_count": 11,
   "metadata": {},
   "outputs": [
    {
     "name": "stdout",
     "output_type": "stream",
     "text": [
      "    Age      Job Depression  Cluster            Yorum Anxiety Obesity Active\n",
      "0    18  Öğrenci      Hayır        1  Ekonomi Yorum B   Hayır   Hayır  Hayır\n",
      "1    45  Çalışan       Evet        4  Ekonomi Yorum E    Evet    Evet  Hayır\n",
      "2    21  Öğrenci       Evet        2  Ekonomi Yorum C   Hayır   Hayır   Evet\n",
      "3    25  Çalışan      Hayır        1  Ekonomi Yorum B   Hayır   Hayır   Evet\n",
      "4    36  Çalışan      Hayır        3  Ekonomi Yorum D   Hayır   Hayır  Hayır\n",
      "5    34  Çalışan      Hayır        3  Ekonomi Yorum D   Hayır   Hayır  Hayır\n",
      "6    32  Çalışan       Evet        3  Ekonomi Yorum D   Hayır   Hayır   Evet\n",
      "7    30  Çalışan      Hayır        1  Ekonomi Yorum B   Hayır   Hayır   Evet\n",
      "8    49  Çalışan      Hayır        3  Ekonomi Yorum D   Hayır   Hayır  Hayır\n",
      "9    39  Çalışan      Hayır        3  Ekonomi Yorum D   Hayır   Hayır   Evet\n",
      "10   33  Çalışan       Evet        0  Ekonomi Yorum A   Hayır    Evet  Hayır\n",
      "11   50  Çalışan      Hayır        3  Ekonomi Yorum D   Hayır   Hayır  Hayır\n",
      "12   22    İşsiz      Hayır        4  Ekonomi Yorum E    Evet   Hayır  Hayır\n",
      "13   36  Çalışan       Evet        1  Ekonomi Yorum B   Hayır   Hayır  Hayır\n",
      "14   20  Öğrenci       Evet        2  Ekonomi Yorum C    Evet   Hayır   Evet\n",
      "15   41  Çalışan      Hayır        3  Ekonomi Yorum D   Hayır   Hayır  Hayır\n",
      "16   42  Çalışan      Hayır        0  Ekonomi Yorum A   Hayır    Evet  Hayır\n",
      "17   26  Çalışan      Hayır        1  Ekonomi Yorum B   Hayır   Hayır   Evet\n",
      "18   48  Çalışan      Hayır        3  Ekonomi Yorum D   Hayır   Hayır  Hayır\n",
      "19   56  Çalışan      Hayır        0  Ekonomi Yorum A   Hayır    Evet  Hayır\n"
     ]
    }
   ],
   "source": [
    "import pandas as pd\n",
    "from sklearn.preprocessing import StandardScaler\n",
    "from sklearn.cluster import KMeans\n",
    "\n",
    "# Kullanıcı verilerini yükle\n",
    "user_data = pd.read_csv(\"realistic_user_data.csv\")\n",
    "\n",
    "# Ekonomi yorumları için önemli özellikleri seç\n",
    "features = ['Age', 'Job', 'Depression', 'Anxiety', 'Obesity', 'Active','Married']\n",
    "\n",
    "# Sayısal verilere dönüştür (categorical verileri encoding ile sayısala çevir)\n",
    "user_data_encoded = pd.get_dummies(user_data[features])\n",
    "\n",
    "# Veriyi ölçeklendir\n",
    "scaler = StandardScaler()\n",
    "scaled_features = scaler.fit_transform(user_data_encoded)\n",
    "\n",
    "# K-means algoritması ile kümeleme\n",
    "kmeans = KMeans(n_clusters=5, random_state=42)\n",
    "user_data['Cluster'] = kmeans.fit_predict(scaled_features)\n",
    "\n",
    "# Kullanıcılara kümelerine göre yorum atama\n",
    "yorumlar = [\"Ekonomi Yorum A\", \"Ekonomi Yorum B\", \"Ekonomi Yorum C\", \"Ekonomi Yorum D\", \"Ekonomi Yorum E\"]\n",
    "user_data['Yorum'] = user_data['Cluster'].apply(lambda x: yorumlar[x])\n",
    "\n",
    "# Kümeleme sonuçlarını incele\n",
    "print(user_data[['Age', 'Job', 'Depression', 'Cluster', 'Yorum','Anxiety', 'Obesity', 'Active']].head(20))\n"
   ]
  },
  {
   "cell_type": "markdown",
   "metadata": {},
   "source": [
    "Reddit yorumları üzerinden filtrelenen yaş, iş gibi verileri çekerek cluster oluşturma"
   ]
  },
  {
   "cell_type": "code",
   "execution_count": null,
   "metadata": {},
   "outputs": [],
   "source": [
    "import pandas as pd\n",
    "from sklearn.feature_extraction.text import TfidfVectorizer\n",
    "from sklearn.preprocessing import StandardScaler\n",
    "from sklearn.cluster import KMeans\n",
    "import nltk\n",
    "from nltk.corpus import stopwords\n",
    "import string\n",
    "\n",
    "# Yorumları yükle\n",
    "reddit_comments = pd.read_csv(\"reddit_comments.csv\")\n",
    "\n",
    "# Metin ön işleme\n",
    "nltk.download('stopwords')\n",
    "stop_words = set(stopwords.words('english'))\n",
    "def preprocess_text(text):\n",
    "    text = text.lower()  # Küçük harfe çevir\n",
    "    text = text.translate(str.maketrans('', '', string.punctuation))  # Noktalama işaretlerini kaldır\n",
    "    text = ' '.join([word for word in text.split() if word not in stop_words])  # Stop kelimeleri kaldır\n",
    "    return text\n",
    "\n",
    "reddit_comments['Processed_Comment'] = reddit_comments['Comment'].apply(preprocess_text)\n",
    "\n",
    "# Özellik çıkarma (TF-IDF)\n",
    "vectorizer = TfidfVectorizer(max_features=1000)\n",
    "X = vectorizer.fit_transform(reddit_comments['Processed_Comment'])\n",
    "\n",
    "# K-means algoritması ile kümeleme\n",
    "kmeans = KMeans(n_clusters=5, random_state=42)\n",
    "reddit_comments['Cluster'] = kmeans.fit_predict(X)\n",
    "\n",
    "# Kullanıcı verilerini yükle\n",
    "user_data = pd.read_csv(\"realistic_user_data.csv\")\n",
    "\n",
    "# Kullanıcıları yorum kümelerine göre atama\n",
    "user_data['Comment'] = reddit_comments['Comment'].sample(n=len(user_data), replace=True).values\n",
    "user_data['Comment_Cluster'] = reddit_comments['Cluster'].sample(n=len(user_data), replace=True).values\n",
    "\n",
    "# Kümeleme sonuçlarını incele\n",
    "print(user_data[['Age', 'Job', 'Depression', 'Comment', 'Comment_Cluster', 'Anxiety', 'Obesity', 'Active']].head(20))\n",
    "\n",
    "# Veriyi CSV olarak kaydet\n",
    "user_data.to_csv(\"clustered_user_data_with_comments.csv\", index=False, encoding=\"utf-8-sig\")\n",
    "print(\"Kullanıcı verileri yorum kümeleri ile eşleştirildi ve kaydedildi.\")"
   ]
  }
 ],
 "metadata": {
  "kernelspec": {
   "display_name": ".venv",
   "language": "python",
   "name": "python3"
  },
  "language_info": {
   "codemirror_mode": {
    "name": "ipython",
    "version": 3
   },
   "file_extension": ".py",
   "mimetype": "text/x-python",
   "name": "python",
   "nbconvert_exporter": "python",
   "pygments_lexer": "ipython3",
   "version": "3.10.11"
  }
 },
 "nbformat": 4,
 "nbformat_minor": 2
}
